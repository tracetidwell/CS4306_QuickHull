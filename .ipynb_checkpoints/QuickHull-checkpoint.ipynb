{
 "cells": [
  {
   "cell_type": "code",
   "execution_count": 130,
   "metadata": {},
   "outputs": [],
   "source": [
    "import numpy as np\n",
    "import math\n",
    "import matplotlib.pyplot as plt\n",
    "import random\n",
    "%matplotlib inline"
   ]
  },
  {
   "cell_type": "code",
   "execution_count": 131,
   "metadata": {
    "collapsed": true
   },
   "outputs": [],
   "source": [
    "def line_from_points(x1, y1, x2, y2):\n",
    "    m = (y2 - y1) / (x2 - x1)\n",
    "    b = y1 - (m * x1)\n",
    "    return m, b"
   ]
  },
  {
   "cell_type": "code",
   "execution_count": 132,
   "metadata": {
    "collapsed": true
   },
   "outputs": [],
   "source": [
    "def dist_line_point(a, b, c, x0, y0):\n",
    "    ### Equation of line given by ax + by + c = 0\n",
    "    ### Point defined as (x0, y0)\n",
    "    return abs(a * x0 + b * y0 + c) / math.sqrt(a**2 + b**2)"
   ]
  },
  {
   "cell_type": "code",
   "execution_count": 133,
   "metadata": {
    "collapsed": true
   },
   "outputs": [],
   "source": [
    "def area_triangle(x1, y1, x2, y2, x3, y3):\n",
    "    return abs((x1 * (y2 - y3) + x2 * (y3 - y1) + x3 * (y1 - y2)) / 2.0)"
   ]
  },
  {
   "cell_type": "code",
   "execution_count": 134,
   "metadata": {
    "collapsed": true
   },
   "outputs": [],
   "source": [
    "def is_outside(x1, y1, x2, y2, x3, y3, x, y):\n",
    "    A = area_triangle(x1, y1, x2, y2, x3, y3)\n",
    "    A1 = area_triangle(x, y, x2, y2, x3, y3)\n",
    "    A2 = area_triangle(x1, y1, x, y, x3, y3)\n",
    "    A3 = area_triangle(x1, y1, x2, y2, x, y)\n",
    "    return A != (A1 + A2 + A3)"
   ]
  },
  {
   "cell_type": "code",
   "execution_count": 135,
   "metadata": {
    "collapsed": true
   },
   "outputs": [],
   "source": [
    "def is_above_line(y, m, x, b):\n",
    "    yy = m*np.array(x) + b\n",
    "    return y - yy > 0"
   ]
  },
  {
   "cell_type": "code",
   "execution_count": 136,
   "metadata": {
    "collapsed": true
   },
   "outputs": [],
   "source": [
    "def intersection_of_lines(m0, b0, m1, b1):\n",
    "    x = (b1 - b0) / (m0 - m1)\n",
    "    y = m0 * x + b0\n",
    "    return x, y"
   ]
  },
  {
   "cell_type": "code",
   "execution_count": 508,
   "metadata": {
    "collapsed": true
   },
   "outputs": [],
   "source": [
    "def dist_btw_pts(x1, y1, x2, y2):\n",
    "    return math.sqrt((x2 - x1)**2 + (y2 - y1)**2)"
   ]
  },
  {
   "cell_type": "code",
   "execution_count": 185,
   "metadata": {
    "collapsed": true
   },
   "outputs": [],
   "source": [
    "def QuickHullRecursive(x, y, x0, y0, x1, y1, m, b):\n",
    "    # Recursive part of QuickHull function\n",
    "    # Input: x - array of x coordinates of set of points\n",
    "    #        y - array of y coordinates of set of points\n",
    "    #        x0, y0, x1, y1 - x and y coordinates of line used to split points\n",
    "    #        m, b - slope and y-intercept, respectively, of line used to split points\n",
    "    # Output: Set of points making up the convex hull\n",
    "    \n",
    "    # Base Case:\n",
    "    # If the function is passed an empty array, simply return\n",
    "    if len(x) == 0:\n",
    "        return\n",
    "    \n",
    "    # If the function is passed an array of length 1, return those coordinates\n",
    "    elif len(x) == 1:\n",
    "        return [[x[0], y[0]]]\n",
    "    \n",
    "    # Recursive Case\n",
    "    else:\n",
    "        # Find point with furthest perpendicular distance from line\n",
    "        # This point is part of the convex hull\n",
    "        max_d = 0\n",
    "        index = 0\n",
    "        for i in range(len(x)):\n",
    "            dist = dist_line_point(m, -1, b, x[i], y[i])\n",
    "            if dist > max_d:\n",
    "                max_d = dist\n",
    "                index = i\n",
    "                \n",
    "        # All of the points inside the triangle made by x0, y0, x1, y1, and the point at the\n",
    "        # furthest distance cannot be a part of the hull, so remove them\n",
    "        out_tri = []\n",
    "        for i in range(len(x)):\n",
    "            out_tri.append(is_outside(x0, y0, x1, y1, x[index], y[index], x[i], y[i]))\n",
    "        new_x = np.array(x)[out_tri]\n",
    "        new_y = np.array(y)[out_tri]\n",
    "        \n",
    "        # We need the equation for the line going from the input line to the furthest point\n",
    "        m0 = -1/m\n",
    "        b0 = y[index] - (m0 * x[index])\n",
    "        x2, y2 = intersection_of_lines(m, b, m0, b0)\n",
    "        \n",
    "        # Now that we have the new line, we split the data by which points fall above and below the line\n",
    "        above = is_above_line(new_y, m0, new_x, b0)\n",
    "        top_x = new_x[above]\n",
    "        top_y = new_y[above]\n",
    "        bottom_x = new_x[np.logical_not(above)]\n",
    "        bottom_y = new_y[np.logical_not(above)]\n",
    "        \n",
    "        if len(top_x) == 1 and len(bottom_x) == 1:\n",
    "            return [[x[index], y[index]], [top_x[0], top_y[0]], [bottom_x[0], bottom_y[0]]]\n",
    "        elif len(top_x) == 0:\n",
    "            [[x[index], y[index]]] + QuickHullRecursive2(bottom_x, bottom_y, x[index], y[index], x2, y2, m0, b0)\n",
    "        elif len(bottom_x) == 0:\n",
    "            [[x[index], y[index]]] + QuickHullRecursive2(top_x, top_y, x[index], y[index], x2, y2, m0, b0)\n",
    "        else:\n",
    "            return ([[x[index], y[index]]] + \n",
    "                    QuickHullRecursive(top_x, top_y, x[index], y[index], x2, y2, m0, b0) + \n",
    "                    QuickHullRecursive(bottom_x, bottom_y, x[index], y[index], x2, y2, m0, b0))"
   ]
  },
  {
   "cell_type": "code",
   "execution_count": 170,
   "metadata": {},
   "outputs": [],
   "source": [
    "def QuickHullRecursive2(x, y, x0, y0, x1, y1, m, b):\n",
    "    # Recursive part of QuickHull function\n",
    "    # Input: x - array of x coordinates of set of points\n",
    "    #        y - array of y coordinates of set of points\n",
    "    #        x0, y0, x1, y1 - x and y coordinates of line used to split points\n",
    "    #        m, b - slope and y-intercept, respectively, of line used to split points\n",
    "    # Output: Set of points making up the convex hull\n",
    "    \n",
    "\n",
    "    # Find point with furthest perpendicular distance from line\n",
    "    # This point is part of the convex hull\n",
    "    if len(x) == 0:\n",
    "        return\n",
    "    elif len(x) == 1:\n",
    "        return [[x[0], y[0]]]\n",
    "    else:\n",
    "        print('called')\n",
    "        max_d = 0\n",
    "        index = 0\n",
    "        for i in range(len(x)):\n",
    "            dist = dist_line_point(m, -1, b, x[i], y[i])\n",
    "            if dist > max_d:\n",
    "                max_d = dist\n",
    "                index = i\n",
    "\n",
    "        # All of the points inside the triangle made by x0, y0, x1, y1, and the point at the\n",
    "        # furthest distance cannot be a part of the hull, so remove them\n",
    "        out_tri = []\n",
    "        for i in range(len(x)):\n",
    "            out_tri.append(is_outside(x0, y0, x1, y1, x[index], y[index], x[i], y[i]))\n",
    "        new_x = np.array(x)[out_tri]\n",
    "        new_y = np.array(y)[out_tri]\n",
    "\n",
    "        if len(new_x) == 0:\n",
    "            return [[x[index], y[index]]]\n",
    "        elif len(new_x) == 1:\n",
    "            return [[x[index], y[index]], [new_x[0], new_y[0]]]\n",
    "        else:\n",
    "            # We need the equation for the line going from the input line to the furthest point\n",
    "            m0 = -1/m\n",
    "            b0 = y[index] - (m0 * x[index])\n",
    "            x2, y2 = intersection_of_lines(m, b, m0, b0)\n",
    "\n",
    "            # Now that we have the new line, we split the data by which points fall above and below the line\n",
    "            above = is_above_line(new_y, m0, new_x, b0)\n",
    "            top_x = new_x[above]\n",
    "            top_y = new_y[above]\n",
    "            bottom_x = new_x[np.logical_not(above)]\n",
    "            bottom_y = new_y[np.logical_not(above)]\n",
    "\n",
    "            if len(top_x) == 1 and len(bottom_x) == 1:\n",
    "                return [[x[index], y[index]], [top_x[0], top_y[0]], [bottom_x[0], bottom_y[0]]]\n",
    "            elif len(top_x) == 0:\n",
    "                [[x[index], y[index]]] + QuickHullRecursive2(bottom_x, bottom_y, x[index], y[index], x2, y2, m0, b0)\n",
    "            elif len(bottom_x) == 0:\n",
    "                [[x[index], y[index]]] + QuickHullRecursive2(top_x, top_y, x[index], y[index], x2, y2, m0, b0)\n",
    "            else:\n",
    "                return ([[x[index], y[index]]] + \n",
    "                        QuickHullRecursive2(top_x, top_y, x[index], y[index], x2, y2, m0, b0) + \n",
    "                        QuickHullRecursive2(bottom_x, bottom_y, x[index], y[index], x2, y2, m0, b0))"
   ]
  },
  {
   "cell_type": "code",
   "execution_count": 531,
   "metadata": {
    "collapsed": true
   },
   "outputs": [],
   "source": [
    "def QuickHullRecursive3(x, y, x0, y0, x1, y1, m, b):\n",
    "    # Recursive part of QuickHull function\n",
    "    # Input: x - array of x coordinates of set of points\n",
    "    #        y - array of y coordinates of set of points\n",
    "    #        x0, y0, x1, y1 - x and y coordinates of line used to split points\n",
    "    #        m, b - slope and y-intercept, respectively, of line used to split points\n",
    "    # Output: Set of points making up the convex hull\n",
    "    \n",
    "\n",
    "    # Find point with furthest perpendicular distance from line\n",
    "    # This point is part of the convex hull\n",
    "    if len(x) == 0:\n",
    "        print('none')\n",
    "        return []\n",
    "    elif len(x) == 1:\n",
    "        print('one')\n",
    "        print([[x[0], y[0]]])\n",
    "        return [[x[0], y[0]]]\n",
    "    else:\n",
    "        print('many')\n",
    "        max_d = 0\n",
    "        index = 0\n",
    "        for i in range(len(x)):\n",
    "            dist = dist_line_point(m, -1, b, x[i], y[i])\n",
    "            if dist > max_d:\n",
    "                max_d = dist\n",
    "                index = i\n",
    "\n",
    "        # All of the points inside the triangle made by x0, y0, x1, y1, and the point at the\n",
    "        # furthest distance cannot be a part of the hull, so remove them\n",
    "        out_tri = []\n",
    "        for i in range(len(x)):\n",
    "            out_tri.append(is_outside(x0, y0, x1, y1, x[index], y[index], x[i], y[i]))\n",
    "        new_x = np.array(x)[out_tri]\n",
    "        new_y = np.array(y)[out_tri]\n",
    "\n",
    "        if len(new_x) == 0:\n",
    "            print('many none')\n",
    "            print(index)\n",
    "            print([[x[index], y[index]]])\n",
    "            return [[x[index], y[index]]]\n",
    "        elif len(new_x) == 1:\n",
    "            print('many one')\n",
    "            print([[x[index], y[index]]] + [[new_x[0], new_y[0]]])\n",
    "            return [[x[index], y[index]]] +  [[new_x[0], new_y[0]]]\n",
    "        else:\n",
    "            # We need the equation for the line going from the input line to the furthest point\n",
    "            #m0 = -1/m\n",
    "            #b0 = y[index] - (m0 * x[index])\n",
    "            #x2, y2 = intersection_of_lines(m, b, m0, b0)\n",
    "            \n",
    "            ml, bl = line_from_points(x0, y0, x[index], y[index])\n",
    "            \n",
    "            mr, br = line_from_points(x[index], y[index], x1, y1)\n",
    "\n",
    "            # Now that we have the new line, we split the data by which points fall above and below the line\n",
    "            #above = is_above_line(new_y, m0, new_x, b0)\n",
    "            #top_x = new_x[above]\n",
    "            #top_y = new_y[above]\n",
    "            #bottom_x = new_x[np.logical_not(above)]\n",
    "            #bottom_y = new_y[np.logical_not(above)]\n",
    "            left_x = new_x[new_x<x[index]]\n",
    "            left_y = new_y[new_x<x[index]]\n",
    "            right_x = new_x[new_x>x[index]]\n",
    "            right_y = new_y[new_x>x[index]]\n",
    "\n",
    "            return ([[x[index], y[index]]] + \n",
    "                        QuickHullRecursive3(left_x, left_y, x0, y0, x[index], y[index], ml, bl) + \n",
    "                        QuickHullRecursive3(right_x, right_y, x1, y1, x[index], y[index], mr, br))"
   ]
  },
  {
   "cell_type": "code",
   "execution_count": 451,
   "metadata": {
    "collapsed": true
   },
   "outputs": [],
   "source": [
    "def QuickHull(x, y):\n",
    "    # Function to find the smallest convex polygon for a set of points that contains all the given points\n",
    "    # Input: x - x coordinates of set of points\n",
    "    #        y - y coordinates of set of points\n",
    "    # Output: Set of points making up the convex hull\n",
    "    \n",
    "    # Start by finding the x-coordinates with smallest and largest values, as these are always included\n",
    "    min_index = np.argmin(x)\n",
    "    max_index = np.argmax(x)\n",
    "    \n",
    "    # Now find the equation of the line connecting the smallest and largest x-coordinates\n",
    "    m, b = line_from_points(x[min_index], y[min_index], \n",
    "                            x[max_index], y[max_index])\n",
    "    \n",
    "    # Remove the min and max x-coordinates from the set of points\n",
    "    if min_index < max_index:\n",
    "        new_x = np.append(np.append(x[:min_index], x[min_index+1:max_index]), x[max_index+1:])\n",
    "        new_y = np.append(np.append(y[:min_index], y[min_index+1:max_index]), y[max_index+1:])\n",
    "    else:\n",
    "        new_x = np.append(np.append(x[:max_index], x[max_index+1:min_index]), x[min_index+1:])\n",
    "        new_y = np.append(np.append(y[:max_index], y[max_index+1:min_index]), y[min_index+1:])\n",
    "        \n",
    "    # Split the data by which points fall above and below the line\n",
    "    above = is_above_line(new_y, m, new_x, b)\n",
    "    top_x = new_x[above]\n",
    "    top_y = new_y[above]\n",
    "    bottom_x = new_x[np.logical_not(above)]\n",
    "    bottom_y = new_y[np.logical_not(above)]\n",
    "    \n",
    "    #-y = -mx - b\n",
    "    #mx - y + b = 0\n",
    "    hull = np.array([[x[min_index], y[min_index]], [x[max_index], y[max_index]]])\n",
    "    pts = (QuickHullRecursive3(top_x, top_y, \n",
    "                              x[min_index], y[min_index], \n",
    "                              x[max_index], y[max_index], \n",
    "                              m, b) + \n",
    "          QuickHullRecursive3(bottom_x, bottom_y, \n",
    "                              x[min_index], y[min_index], \n",
    "                              x[max_index], y[max_index], \n",
    "                              m, b))\n",
    "#    hull = np.append(hull, \n",
    "#                     QuickHullRecursive3(top_x, top_y, \n",
    "#                                         x[min_index], y[min_index], \n",
    "#                                         x[max_index], y[max_index], \n",
    "#                                         m, b), axis=0)# + \n",
    "                     #QuickHullRecursive3(bottom_x, bottom_y, \n",
    "                      #                   x[min_index], y[min_index], \n",
    "                       #                  x[max_index], y[max_index], \n",
    "                        #                 m, b), axis=0)\n",
    "#    hull = np.append(hull, QuickHullRecursive3(bottom_x, bottom_y, \n",
    "#                                              x[min_index], y[min_index], \n",
    "#                                              x[max_index], y[max_index], \n",
    "#                                              m, b), axis=0)\n",
    "    return np.append(hull, pts, axis=0)"
   ]
  },
  {
   "cell_type": "code",
   "execution_count": 165,
   "metadata": {
    "collapsed": true
   },
   "outputs": [],
   "source": [
    "def order_points(points):\n",
    "    avg_x = np.mean(points[:, 0])\n",
    "    avg_y = np.mean(points[:, 1])\n",
    "    thetas = []\n",
    "    for i in range(len(points)):\n",
    "        a = points[i][0] - avg_x\n",
    "        o = points[i][1] - avg_y\n",
    "        theta = math.atan2(o, a) * 180 / math.pi\n",
    "        if theta > 0:\n",
    "            thetas.append(theta)\n",
    "        else:\n",
    "            thetas.append(360+theta)\n",
    "    return thetas"
   ]
  },
  {
   "cell_type": "code",
   "execution_count": 167,
   "metadata": {},
   "outputs": [],
   "source": [
    "def plot_hull(x, y, hull):\n",
    "    thetas = np.array([order_points(hull)])\n",
    "    hull = np.append(hull, thetas.T, 1)\n",
    "    hull = hull[np.argsort(hull[:, 2])]\n",
    "    for i in range(len(hull)-1):\n",
    "        plt.plot([hull[i][0], hull[i+1][0]], [hull[i][1], hull[i+1][1]], 'r')\n",
    "    plt.plot([hull[-1][0], hull[0][0]], [hull[-1][1], hull[0][1]], 'r')\n",
    "    plt.scatter(x, y)"
   ]
  },
  {
   "cell_type": "code",
   "execution_count": 307,
   "metadata": {
    "collapsed": true
   },
   "outputs": [],
   "source": [
    "x = np.array([1, 4, 7, 10, 11, 11, 11, 12, 15, 16, 18, 18, 19, 22])\n",
    "y = np.array([6, 15, 7, 13, 6, 18, 21, 10, 18, 6, 3, 12, 15, 19])"
   ]
  },
  {
   "cell_type": "code",
   "execution_count": 308,
   "metadata": {},
   "outputs": [
    {
     "data": {
      "text/plain": [
       "<matplotlib.collections.PathCollection at 0x1ed973ed5c0>"
      ]
     },
     "execution_count": 308,
     "metadata": {},
     "output_type": "execute_result"
    },
    {
     "data": {
      "image/png": "[encoded data removed]",
      "text/plain": [
       "<matplotlib.figure.Figure at 0x1ed97390390>"
      ]
     },
     "metadata": {},
     "output_type": "display_data"
    }
   ],
   "source": [
    "plt.scatter(x, y)"
   ]
  },
  {
   "cell_type": "code",
   "execution_count": 309,
   "metadata": {},
   "outputs": [
    {
     "name": "stdout",
     "output_type": "stream",
     "text": [
      "many\n",
      "many one\n",
      "[[11, 21], [4, 15]]\n",
      "many\n",
      "many none\n",
      "4\n",
      "[[18, 3]]\n"
     ]
    }
   ],
   "source": [
    "h = QuickHull(x, y)"
   ]
  },
  {
   "cell_type": "code",
   "execution_count": 310,
   "metadata": {},
   "outputs": [
    {
     "data": {
      "image/png": "[encoded data removed]",
      "text/plain": [
       "<matplotlib.figure.Figure at 0x1ed974029e8>"
      ]
     },
     "metadata": {},
     "output_type": "display_data"
    }
   ],
   "source": [
    "plot_hull(x, y, h)"
   ]
  },
  {
   "cell_type": "code",
   "execution_count": null,
   "metadata": {},
   "outputs": [],
   "source": []
  },
  {
   "cell_type": "code",
   "execution_count": 552,
   "metadata": {},
   "outputs": [],
   "source": [
    "#random.seed(1)\n",
    "x = np.array([random.randint(-100, 100) for i in range(25)])\n",
    "y = np.array([random.randint(-100, 100) for i in range(25)])"
   ]
  },
  {
   "cell_type": "code",
   "execution_count": 553,
   "metadata": {},
   "outputs": [
    {
     "data": {
      "text/plain": [
       "<matplotlib.collections.PathCollection at 0x1ed9bd01588>"
      ]
     },
     "execution_count": 553,
     "metadata": {},
     "output_type": "execute_result"
    },
    {
     "data": {
      "image/png": "[encoded data removed]",
      "text/plain": [
       "<matplotlib.figure.Figure at 0x1ed9bc81eb8>"
      ]
     },
     "metadata": {},
     "output_type": "display_data"
    }
   ],
   "source": [
    "plt.scatter(x, y)"
   ]
  },
  {
   "cell_type": "code",
   "execution_count": 554,
   "metadata": {
    "scrolled": true
   },
   "outputs": [
    {
     "name": "stdout",
     "output_type": "stream",
     "text": [
      "many\n",
      "many\n",
      "many one\n",
      "[[2, 85], [-19, 85]]\n",
      "many\n",
      "many none\n",
      "0\n",
      "[[84, 21]]\n",
      "many\n",
      "many\n",
      "many none\n",
      "0\n",
      "[[-90, -30]]\n",
      "none\n"
     ]
    }
   ],
   "source": [
    "h1 = QuickHull(x, y)"
   ]
  },
  {
   "cell_type": "code",
   "execution_count": 555,
   "metadata": {},
   "outputs": [
    {
     "data": {
      "text/plain": [
       "array([[-93,  73],\n",
       "       [ 85, -72],\n",
       "       [ 63,  44],\n",
       "       [  2,  85],\n",
       "       [-19,  85],\n",
       "       [ 84,  21],\n",
       "       [-12, -98],\n",
       "       [-90, -30]])"
      ]
     },
     "execution_count": 555,
     "metadata": {},
     "output_type": "execute_result"
    }
   ],
   "source": [
    "h1"
   ]
  },
  {
   "cell_type": "code",
   "execution_count": 556,
   "metadata": {},
   "outputs": [
    {
     "data": {
      "image/png": "[encoded data removed]",
      "text/plain": [
       "<matplotlib.figure.Figure at 0x1ed9bd32a90>"
      ]
     },
     "metadata": {},
     "output_type": "display_data"
    }
   ],
   "source": [
    "plot_hull(x, y, h1)"
   ]
  },
  {
   "cell_type": "code",
   "execution_count": 509,
   "metadata": {},
   "outputs": [
    {
     "data": {
      "text/plain": [
       "76.02631123499285"
      ]
     },
     "execution_count": 509,
     "metadata": {},
     "output_type": "execute_result"
    }
   ],
   "source": [
    "dist_btw_pts(-98, -77, -96, -1)"
   ]
  },
  {
   "cell_type": "code",
   "execution_count": 510,
   "metadata": {},
   "outputs": [
    {
     "data": {
      "text/plain": [
       "76.94337314801847"
      ]
     },
     "execution_count": 510,
     "metadata": {},
     "output_type": "execute_result"
    }
   ],
   "source": [
    "dist_btw_pts(-98, -77, -91, -31) + dist_btw_pts(-91, -31, -96, -1)"
   ]
  },
  {
   "cell_type": "code",
   "execution_count": null,
   "metadata": {
    "collapsed": true
   },
   "outputs": [],
   "source": []
  },
  {
   "cell_type": "code",
   "execution_count": 370,
   "metadata": {},
   "outputs": [],
   "source": [
    "def test(x):\n",
    "    if x == 0:\n",
    "        return [[1, 2]]\n",
    "    else:\n",
    "        return []"
   ]
  },
  {
   "cell_type": "code",
   "execution_count": 361,
   "metadata": {},
   "outputs": [
    {
     "data": {
      "text/plain": [
       "array([[3, 4],\n",
       "       [5, 6]])"
      ]
     },
     "execution_count": 361,
     "metadata": {},
     "output_type": "execute_result"
    }
   ],
   "source": [
    "b = np.array([[3, 4], [5, 6]])\n",
    "b"
   ]
  },
  {
   "cell_type": "code",
   "execution_count": 371,
   "metadata": {},
   "outputs": [
    {
     "data": {
      "text/plain": [
       "[[1, 2], [3, 4]]"
      ]
     },
     "execution_count": 371,
     "metadata": {},
     "output_type": "execute_result"
    }
   ],
   "source": [
    "[[1, 2]] + [[3, 4]] + test(1)"
   ]
  },
  {
   "cell_type": "code",
   "execution_count": 380,
   "metadata": {},
   "outputs": [
    {
     "data": {
      "text/plain": [
       "array([[3, 4],\n",
       "       [5, 6],\n",
       "       [1, 2],\n",
       "       [3, 4]])"
      ]
     },
     "execution_count": 380,
     "metadata": {},
     "output_type": "execute_result"
    }
   ],
   "source": [
    "np.append(b, [[1, 2]] + [[3, 4]] + test(1), axis=0)"
   ]
  },
  {
   "cell_type": "code",
   "execution_count": 407,
   "metadata": {},
   "outputs": [
    {
     "data": {
      "text/plain": [
       "[[87, 89], [74, 86]]"
      ]
     },
     "execution_count": 407,
     "metadata": {},
     "output_type": "execute_result"
    }
   ],
   "source": [
    "[[87, 89], [74, 86]]"
   ]
  },
  {
   "cell_type": "code",
   "execution_count": 212,
   "metadata": {},
   "outputs": [
    {
     "data": {
      "text/plain": [
       "array([ 51, -23, -73, -73,  -5,   6])"
      ]
     },
     "execution_count": 212,
     "metadata": {},
     "output_type": "execute_result"
    }
   ],
   "source": []
  },
  {
   "cell_type": "code",
   "execution_count": 482,
   "metadata": {},
   "outputs": [
    {
     "data": {
      "text/plain": [
       "array([ 18,  53, -13,  36,  29, -58, -93, -63, -36,  75, -44,  44, -66,\n",
       "       -72, -53])"
      ]
     },
     "execution_count": 482,
     "metadata": {},
     "output_type": "execute_result"
    }
   ],
   "source": [
    "x"
   ]
  },
  {
   "cell_type": "code",
   "execution_count": 483,
   "metadata": {},
   "outputs": [
    {
     "data": {
      "text/plain": [
       "array([ 96,   5,  86,  58, -88, -75,  39,  74, -32,  82, -73, -48, -34,\n",
       "       -83,  61])"
      ]
     },
     "execution_count": 483,
     "metadata": {},
     "output_type": "execute_result"
    }
   ],
   "source": [
    "y"
   ]
  },
  {
   "cell_type": "code",
   "execution_count": 478,
   "metadata": {},
   "outputs": [
    {
     "data": {
      "text/plain": [
       "array([False, False,  True, False, False,  True,  True,  True,  True,\n",
       "       False,  True, False,  True,  True,  True])"
      ]
     },
     "execution_count": 478,
     "metadata": {},
     "output_type": "execute_result"
    }
   ],
   "source": [
    "x<0"
   ]
  },
  {
   "cell_type": "code",
   "execution_count": 480,
   "metadata": {},
   "outputs": [
    {
     "data": {
      "text/plain": [
       "array([-93, -63, -66, -72])"
      ]
     },
     "execution_count": 480,
     "metadata": {},
     "output_type": "execute_result"
    }
   ],
   "source": [
    "x[x<x[5]]"
   ]
  },
  {
   "cell_type": "code",
   "execution_count": 481,
   "metadata": {},
   "outputs": [
    {
     "data": {
      "text/plain": [
       "array([ 39,  74, -34, -83])"
      ]
     },
     "execution_count": 481,
     "metadata": {},
     "output_type": "execute_result"
    }
   ],
   "source": [
    "y[x<x[5]]"
   ]
  },
  {
   "cell_type": "code",
   "execution_count": null,
   "metadata": {
    "collapsed": true
   },
   "outputs": [],
   "source": []
  }
 ],
 "metadata": {
  "anaconda-cloud": {},
  "kernelspec": {
   "display_name": "Python [default]",
   "language": "python",
   "name": "python3"
  },
  "language_info": {
   "codemirror_mode": {
    "name": "ipython",
    "version": 3
   },
   "file_extension": ".py",
   "mimetype": "text/x-python",
   "name": "python",
   "nbconvert_exporter": "python",
   "pygments_lexer": "ipython3",
   "version": "3.5.4"
  }
 },
 "nbformat": 4,
 "nbformat_minor": 2
}
